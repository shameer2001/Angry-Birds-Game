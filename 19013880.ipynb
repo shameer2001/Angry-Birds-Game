{
 "cells": [
  {
   "cell_type": "markdown",
   "metadata": {},
   "source": [
    "# 19013880 Reading Week Task 08/11/19"
   ]
  },
  {
   "cell_type": "markdown",
   "metadata": {},
   "source": [
    "### 1a) Importing functions"
   ]
  },
  {
   "cell_type": "code",
   "execution_count": 143,
   "metadata": {},
   "outputs": [],
   "source": [
    "import numpy as np\n",
    "%matplotlib inline\n",
    "import matplotlib.pyplot as plt\n"
   ]
  },
  {
   "cell_type": "markdown",
   "metadata": {},
   "source": [
    "### 1b) Plotting the data"
   ]
  },
  {
   "cell_type": "code",
   "execution_count": 174,
   "metadata": {},
   "outputs": [
    {
     "data": {
      "text/plain": [
       "<matplotlib.legend.Legend at 0x25c73ec8488>"
      ]
     },
     "execution_count": 174,
     "metadata": {},
     "output_type": "execute_result"
    },
    {
     "data": {
      "image/png": "[encoded data removed]",
      "text/plain": [
       "<Figure size 432x288 with 1 Axes>"
      ]
     },
     "metadata": {
      "needs_background": "light"
     },
     "output_type": "display_data"
    }
   ],
   "source": [
    "xdata, ydata, yerror = np.loadtxt(\"hubble_data.csv\", skiprows = 2, unpack=True, delimiter=',') #'skiprows' is there because there is a row that python cant read so you have to skip it\n",
    "plt.figure()\n",
    "plt.plot(xdata,ydata,\".\",label='Data')\n",
    "plt.xlabel(\"Velocity (km/s)\")\n",
    "plt.ylabel(\"Distance (Mpc)\")\n",
    "plt.title(\"Measuring the Hubble's Constant\")\n",
    "plt.errorbar(xdata,ydata,yerror,linewidth=1, capsize=3, ecolor='red',fmt=\"o\",markersize=3)\n",
    "plt.legend()\n"
   ]
  },
  {
   "cell_type": "markdown",
   "metadata": {},
   "source": [
    "### 1c)Adapting code from session 5"
   ]
  },
  {
   "cell_type": "code",
   "execution_count": 145,
   "metadata": {},
   "outputs": [
    {
     "name": "stdout",
     "output_type": "stream",
     "text": [
      "The slope is 0.015581875025882406 Mpc km^-1 s\n",
      "The y-intercept is  -7.665453841663492 Mpc\n",
      "The uncertainty in the slope is  0.0002591941927322033 Mpc km^-1 s\n",
      "The uncertainty in the y-intercept is 4.504390729894979 Mpc\n"
     ]
    }
   ],
   "source": [
    "# Gradient,intercept and uncertainties code adapted from student 19013880 submission for PHAS0007 Session 5\n",
    "mean_xdata = np.mean(xdata) #calculate the mean of the x-data\n",
    "mean_ydata = np.mean(ydata)#calculate the mean of the y-data\n",
    "slope = np.sum(xdata*(ydata-mean_ydata))/np.sum(xdata*(xdata-mean_xdata)) #calculate gradient\n",
    "print(\"The slope is\", slope, \"Mpc km^-1 s\")\n",
    "intercept = mean_ydata - slope*mean_xdata #calculate y-intercept\n",
    "print(\"The y-intercept is \", intercept, \"Mpc\")\n",
    "sumofsquares = np.sum((ydata-(slope*xdata + intercept))**2) #calculate the sum of the square distances to the LOBF\n",
    "\n",
    "#The equations used below are from 24-26 (p38) in Dr Llorente-Garcia's PHAS0007 Data Analysis handbook\n",
    "D = np.sum((xdata-mean_xdata)**2)\n",
    "uncertaintyinslope = np.sqrt(sumofsquares/((11-2)*D))   \n",
    "print(\"The uncertainty in the slope is \", uncertaintyinslope,  \"Mpc km^-1 s\")\n",
    "uncertaintyinintercept = np.sqrt(((1/11)+((mean_xdata)**2)/D)*(sumofsquares/(11-2)))\n",
    "print(\"The uncertainty in the y-intercept is\", uncertaintyinintercept, \"Mpc\" )"
   ]
  },
  {
   "cell_type": "markdown",
   "metadata": {},
   "source": [
    "### 1d)Implementing the following equations\n",
    "Weightings: \n",
    "$$ w_i = \\frac{1}{(\\Delta y_i)^2} {(1)} $$\n",
    "\n",
    "Weighted Slope:\n",
    "$$  m = \\frac{\\sum_i w_i \\sum_i w_i x_i y_i - \\sum_i w_i x_i \\sum_i w_i\n",
    "y_i}{\\sum_i w_i \\sum_i w_i x_i^2 - \\left(\\sum_i w_i x_i \\right)^2}\\\\\n",
    "= \\frac{\\sum_i w_i \\sum_i w_i x_i y_i - \\sum_i w_i x_i \\sum_i w_i\n",
    "y_i}{\\delta} {(2)}$$\n",
    "\n",
    "Weighted Intercept:\n",
    "Equation (5):\n",
    "$$ c = \\frac{\\sum_i w_i x_i^2 \\sum_i w_i y_i - \\sum_i w_i x_i \\sum_i w_i x_i y_i}{\\delta} {(3)} $$\n",
    "\n",
    "Uncertainty in weighted slope:\n",
    "$$ \\Delta m = \\sqrt{ \\frac{\\sum_i w_i}{\\delta}} {(4)} $$\n",
    "\n",
    "Uncertainty in weighted intercept:\n",
    "$$ \\Delta c = \\sqrt{ \\frac{\\sum_i x_i^2 w_i}{\\delta}} {(5)} $$"
   ]
  },
  {
   "cell_type": "code",
   "execution_count": 146,
   "metadata": {},
   "outputs": [
    {
     "name": "stdout",
     "output_type": "stream",
     "text": [
      "The weighted slope is 0.015502698613504395 Mpc km^-1 s\n",
      "The weighted y-intercept is  -6.881414116663961 Mpc\n",
      "The uncertainty in the weigted slope is  0.0009401002347956379 Mpc km^-1 s\n",
      "The uncertainty in the weighted y-intercept is 7.858500366636018 Mpc\n"
     ]
    }
   ],
   "source": [
    "#We now calculate the slope and intercepty for the weighted fit:\n",
    "weight=1/((yerror)**2)#First we calculate the weight for each data point\n",
    "delta=(np.sum(weight)*np.sum(weight*(xdata**2)))-(np.sum(weight*xdata)**2)\n",
    "weightedm=((np.sum(weight)*np.sum(weight*xdata*ydata))-(np.sum(weight*xdata)*np.sum(weight*ydata)))/delta\n",
    "weightedc=((np.sum(weight*(xdata**2))*np.sum(weight*ydata))-(np.sum(weight*xdata)*np.sum(weight*xdata*ydata)))/delta\n",
    "uncertaintyinweightedm=np.sqrt(np.sum(weight)/delta)\n",
    "uncertaintyinweightedc=np.sqrt(np.sum((xdata**2)*weight)/delta)\n",
    "print(\"The weighted slope is\", weightedm, \"Mpc km^-1 s\")\n",
    "print(\"The weighted y-intercept is \", weightedc, \"Mpc\")\n",
    "print(\"The uncertainty in the weigted slope is \", uncertaintyinweightedm,  \"Mpc km^-1 s\")\n",
    "print(\"The uncertainty in the weighted y-intercept is\", uncertaintyinweightedc, \"Mpc\" )"
   ]
  },
  {
   "cell_type": "markdown",
   "metadata": {},
   "source": [
    "### 2) Calculating unweighted and weighted fit using np.polyfit function"
   ]
  },
  {
   "cell_type": "code",
   "execution_count": 171,
   "metadata": {},
   "outputs": [
    {
     "name": "stdout",
     "output_type": "stream",
     "text": [
      "slope =  (0.02 ± 0.00) Mpc km^-1 s\n",
      "y-intercept = (-7.67 ± 3.36) Mpc\n"
     ]
    }
   ],
   "source": [
    "#The below UNWEIGHTED fitting code is from “Script for linear fitting using Python” from the PHAS0007 Data Analysis and Statistics Moodle. \n",
    "#For the UNWEIGHTED data, the gradient and slope is:\n",
    "degree = 1 \n",
    "fit, cvm = np.polyfit(xdata,ydata,degree,cov='true')\n",
    "# Outputs of np.polyfit are fit parameters (fit) and covariance matrix (cvm)\n",
    "# The slope is the first element of fit: a = fit[0].\n",
    "# The intercept is the second element of fit: b = fit[1].\n",
    "# To obtain the uncertainties of fit parameters we get the diagonal elements\n",
    "# of the covariance matrix:\n",
    "dfit = [np.sqrt(cvm[i,i]) for i in range(2)] \n",
    "# The error of the slope is dfit[0].\n",
    "# The error of the intercept is dfit[1].\n",
    "# Print fit parameters with their errors (to 2 decimal places):\n",
    "print(u\"slope =  ({0:0.2f} \\xb1 {1:0.2f}) Mpc km^-1 s\".format(fit[0], dfit[0]))\n",
    "print(u\"y-intercept = ({0:0.2f} \\xb1 {1:0.2f}) Mpc\".format(fit[1], dfit[1]))\n"
   ]
  },
  {
   "cell_type": "code",
   "execution_count": 172,
   "metadata": {},
   "outputs": [
    {
     "name": "stdout",
     "output_type": "stream",
     "text": [
      "slope = (0.02 ± 0.00) Mpc km^-1 s\n",
      "y-intercept = (-6.88 ± 7.86) Mpc\n"
     ]
    }
   ],
   "source": [
    "#The below WEIGHTED fitting code is from “Script for linear fitting using Python” from the PHAS0007 Data Analysis and Statistics Moodle. \n",
    "#For the WEIGHTED data, the gradient and slope is:\n",
    "weight2=1/yerror\n",
    "wfit, cvm = np.polyfit(xdata,ydata,degree,w=weight2,cov='unscaled')\n",
    "# Outputs and errors of fitted parameters are same as before.\n",
    "wdfit = [np.sqrt(cvm[i,i]) for i in range(2)]\n",
    "# Print fit parameters with their errors (to 2 decimal places):\n",
    "print(u\"slope = ({0:0.2f} \\xb1 {1:0.2f}) Mpc km^-1 s\".format(wfit[0], wdfit[0]))\n",
    "print(u\"y-intercept = ({0:0.2f} \\xb1 {1:0.2f}) Mpc\".format(wfit[1], wdfit[1]))"
   ]
  },
  {
   "cell_type": "markdown",
   "metadata": {},
   "source": [
    "### 3) Calculating unweighted and weighted fit using curve_fit function"
   ]
  },
  {
   "cell_type": "code",
   "execution_count": 149,
   "metadata": {},
   "outputs": [
    {
     "name": "stdout",
     "output_type": "stream",
     "text": [
      "The unweighted slope is (0.015581874993853734 ± 0.00020781773315223012) Mpc km^-1 s\n",
      "The unweughted y-intercept is (-7.665453210233705 ± 3.364858743089755) Mpc\n",
      "The unweighted slope is (0.015502698594656278 ± 0.0009401002203658244) Mpc km^-1 s\n",
      "The unweighted y-intercept is (-6.881413924365953 ± 7.858500568411606) Mpc\n"
     ]
    }
   ],
   "source": [
    "##The below code is from 'SupplementaryNotebookRW2019'##\n",
    "# Use scipy's curve_fit function to fit the data\n",
    "from scipy.optimize import curve_fit # we're importing just this one function from scipy.optimize\n",
    "def straight_line(x,m,c):\n",
    "    \"\"\"Calculates a straight line y = mx+c\n",
    "    Inputs: x value (or set of x values)\n",
    "            gradient of straight line m\n",
    "            y-intercept of straight line c\n",
    "    Returns: the corresponding y value(s)\"\"\"\n",
    "    y = m*x + c # equation for straight line\n",
    "    return y\n",
    "\n",
    "# Unweighted fit:\n",
    "# poptUW: Optimized parameters for the unweighted fit\n",
    "# pcovUW: matrix of covariance for the unweighted fit \n",
    "poptUW,pcovUW = curve_fit(straight_line,xdata,ydata)\n",
    "uncertainty = [np.sqrt(pcovUW[i,i]) for i in range(2)] #The uncertainties of the unweighted parameters\n",
    "print(u\"The unweighted slope is ({0:0} \\xb1 {1:0}) Mpc km^-1 s\".format(poptUW[0], uncertainty[0]))\n",
    "print(u\"The unweughted y-intercept is ({0:0} \\xb1 {1:0}) Mpc\".format(poptUW[1], uncertainty[1]))\n",
    "\n",
    "# Weighted fit\n",
    "# poptW: Optimized parameters for the weighted fit\n",
    "# pcovW: matrix of covariance for the weighted fit \n",
    "poptW,pcovW = curve_fit(straight_line,xdata,ydata, sigma=yerror, absolute_sigma=True)\n",
    "uncertainty_weight = [np.sqrt(pcovW[i,i]) for i in range(2)] #The uncertainties of the weighted parameters\n",
    "print(u\"The unweighted slope is ({0:0} \\xb1 {1:0}) Mpc km^-1 s\".format(poptW[0], uncertainty_weight[0])) \n",
    "print(u\"The unweighted y-intercept is ({0:0} \\xb1 {1:0}) Mpc\".format(poptW[1], uncertainty_weight[1]))"
   ]
  },
  {
   "cell_type": "markdown",
   "metadata": {},
   "source": [
    "### 3a) How curve_fit works:\n",
    "The inputs are the x and y values but they also include the input of the error bars. Error bars are used when weighted fits are used. The function gives out an array popt and an array pcov. popt makes the sum of the squares of the residuals minimised. pcov caclulates the covariance matrix.\n",
    "\n",
    "Reference: scipy.org"
   ]
  },
  {
   "cell_type": "markdown",
   "metadata": {},
   "source": [
    "### 3b) Explanation of the covariance matrix:\n",
    "\n",
    "Covariance: A measure of how the x and y calues change with respect to each other.\n",
    "<br>\n",
    "Positive = x and y both going the same way (e.g. both increasing).\n",
    "<br>\n",
    "Negative = x and y both going opposite way (e.g. one increasing, other decreasing).\n",
    "\n",
    "Covariance Matrix(2x2):\n",
    "<br>\n",
    "[a b]\n",
    "<br>\n",
    "[c d]\n",
    "\n",
    "Each diagonal value(foreward slash) is the variances of x and y.\n",
    "<br>\n",
    "Each non-diagonal value(backward slash) is the COvariances of x and y.\n",
    "\n",
    "Reference:\n",
    "Gada, J. (2019)."
   ]
  },
  {
   "cell_type": "markdown",
   "metadata": {},
   "source": [
    "### 4a) Outputting ALL results so far"
   ]
  },
  {
   "cell_type": "code",
   "execution_count": 150,
   "metadata": {},
   "outputs": [
    {
     "name": "stdout",
     "output_type": "stream",
     "text": [
      "The gradients and slopes from my submission for PHAS0007 Session 5 are:\n",
      "The unweighted slope is ( 0.015581875025882406 +- 0.0002591941927322033 ) Mpc km^-1 s\n",
      "The unweighted y-intercept is  ( -7.665453841663492 +- 4.504390729894979 ) Mpc\n",
      "The weighted slope is ( 0.015502698613504395 +- 0.0009401002347956379 ) Mpc km^-1 s\n",
      "The weighted y-intercept is  ( -6.881414116663961 +- 7.858500366636018 ) Mpc\n",
      "\n",
      "\n",
      "The gradients and slopes from the polynomial fit (np.polyfit) method are:\n",
      "The unweighted slope = (0.0155818750258824 ± 0.0002078176855382906) Mpc km^-1 s\n",
      "The unweightedy-intercept = (-7.665453841663435 ± 3.3648582113872263) Mpc\n",
      "The weighted slope = (0.015502698613504408 ± 0.0009401002347956373) Mpc km^-1 s\n",
      "The weighted y-intercept = (-6.881414116663822 ± 7.8585003666360125) Mpc\n",
      "\n",
      "\n",
      "The gradients and slopes from the cruve_fit function are:\n",
      "The unweighted slope is (0.015581874993853734 ± 0.00020781773315223012) Mpc km^-1 s\n",
      "The unweughted y-intercept is (-7.665453210233705 ± 3.364858743089755) Mpc\n",
      "The unweighted slope is (0.015502698594656278 ± 0.0009401002203658244) Mpc km^-1 s\n",
      "The unweighted y-intercept is (-6.881413924365953 ± 7.858500568411606) Mpc\n"
     ]
    }
   ],
   "source": [
    "#Using a single code cell to output all of the results so far:\n",
    "print(\"The gradients and slopes from my submission for PHAS0007 Session 5 are:\")\n",
    "print(\"The unweighted slope is\", \"(\",slope ,\"+-\", uncertaintyinslope,\")\", \"Mpc km^-1 s\")\n",
    "print(\"The unweighted y-intercept is \", \"(\", intercept ,\"+-\", uncertaintyinintercept,\")\", \"Mpc\")\n",
    "print(\"The weighted slope is\", \"(\", weightedm ,\"+-\", uncertaintyinweightedm,\")\", \"Mpc km^-1 s\")\n",
    "print(\"The weighted y-intercept is \", \"(\", weightedc ,\"+-\", uncertaintyinweightedc,\")\", \"Mpc\")\n",
    "print()\n",
    "print()\n",
    "print(\"The gradients and slopes from the polynomial fit (np.polyfit) method are:\")\n",
    "print(u\"The unweighted slope = ({0:0} \\xb1 {1:0}) Mpc km^-1 s\".format(fit[0], dfit[0]))\n",
    "print(u\"The unweightedy-intercept = ({0:0} \\xb1 {1:0}) Mpc\".format(fit[1], dfit[1]))\n",
    "print(u\"The weighted slope = ({0:0} \\xb1 {1:0}) Mpc km^-1 s\".format(wfit[0], wdfit[0]))\n",
    "print(u\"The weighted y-intercept = ({0:0} \\xb1 {1:0}) Mpc\".format(wfit[1], wdfit[1]))\n",
    "print()\n",
    "print()\n",
    "print(\"The gradients and slopes from the cruve_fit function are:\")\n",
    "print(u\"The unweighted slope is ({0:0} \\xb1 {1:0}) Mpc km^-1 s\".format(poptUW[0], uncertainty[0]))\n",
    "print(u\"The unweughted y-intercept is ({0:0} \\xb1 {1:0}) Mpc\".format(poptUW[1], uncertainty[1]))\n",
    "print(u\"The unweighted slope is ({0:0} \\xb1 {1:0}) Mpc km^-1 s\".format(poptW[0], uncertainty_weight[0]))\n",
    "print(u\"The unweighted y-intercept is ({0:0} \\xb1 {1:0}) Mpc\".format(poptW[1], uncertainty_weight[1]))"
   ]
  },
  {
   "cell_type": "markdown",
   "metadata": {},
   "source": [
    "### 4b)\n",
    "I have chosen to choose the results from my submission 5. This is because it is ouputed to more decimal places than the curve_fit function. I have also, personally, written the code my self from scratch and I know the 'ins and outs' of it. So, i feel more comfortable using it."
   ]
  },
  {
   "cell_type": "markdown",
   "metadata": {},
   "source": [
    "### 4c,d) Using chosen results to creat enew plot"
   ]
  },
  {
   "cell_type": "code",
   "execution_count": 173,
   "metadata": {},
   "outputs": [
    {
     "name": "stdout",
     "output_type": "stream",
     "text": [
      "The unweighted slope is (0.0156 ± 0.0003) Mpc km^-1 s\n",
      "The unweighted y-intercept is (-8 ± 5) Mpc\n",
      "The weighted slope is (0.0155 ± 0.0009) Mpc km^-1 s\n",
      "The weighted y-intercept is (-7 ± 8) Mpc\n"
     ]
    },
    {
     "data": {
      "image/png": "[encoded data removed]",
      "text/plain": [
       "<Figure size 432x288 with 1 Axes>"
      ]
     },
     "metadata": {
      "needs_background": "light"
     },
     "output_type": "display_data"
    }
   ],
   "source": [
    "#Creating a new plot that includes the data with errorbars and both the unweighted and weighted fitted lines:\n",
    "plt.figure()\n",
    "plt.plot(xdata,ydata, '.', label=\"Recorded Data\")\n",
    "plt.xlabel(\"Velocity (km/s)\")\n",
    "plt.ylabel(\"Distance (Mpc)\")\n",
    "plt.title(\"Measuring the Hubble's Constant\")\n",
    "plt.errorbar(xdata,ydata,yerror,linewidth=1, capsize=3, ecolor='red',fmt=\"o\",markersize=3)\n",
    "plt.plot(xdata,ydata, '.', label='Data')\n",
    "\n",
    "yunweighted=(slope*xdata) + intercept #The equation of a line to calculate the unweighted fit\n",
    "yweighted=(weightedm*xdata) + weightedc #The equation of a line to calculate the weighted fit\n",
    "\n",
    "plt.plot(xdata,yunweighted, label=\"Unweighted Fit\") #Plot the unweighted fit\n",
    "plt.plot(xdata,yweighted, label=\"Weighted Fit\",color='purple') #Plot the weighted fit\n",
    "\n",
    "plt.legend()\n",
    "\n",
    "#State ALL of the fit parameters in scientific notation:\n",
    "print(\"The unweighted slope is ({0:0.4f} ± {1:0.4f}) Mpc km^-1 s\".format(slope,uncertaintyinslope)) \n",
    "print(\"The unweighted y-intercept is ({0:0.0f} ± {1:0.0f}) Mpc\".format(intercept,uncertaintyinintercept))\n",
    "print(\"The weighted slope is ({0:0.4f} ± {1:0.4f}) Mpc km^-1 s\".format(weightedm,uncertaintyinweightedm))\n",
    "print(\"The weighted y-intercept is ({0:0.0f} ± {1:0.0f}) Mpc\".format(weightedc,uncertaintyinweightedc))\n",
    "\n"
   ]
  },
  {
   "cell_type": "markdown",
   "metadata": {},
   "source": [
    "### 4e) Calculating and plotting residuals using the equation:\n",
    "$$d_i = y_i -y_{line}(x_i)\\qquad\\qquad\\qquad\\qquad\\mathrm {(6)}$$"
   ]
  },
  {
   "cell_type": "code",
   "execution_count": 104,
   "metadata": {},
   "outputs": [
    {
     "data": {
      "text/plain": [
       "<matplotlib.legend.Legend at 0x25c72a4f2c8>"
      ]
     },
     "execution_count": 104,
     "metadata": {},
     "output_type": "execute_result"
    },
    {
     "data": {
      "image/png": "[encoded data removed]",
      "text/plain": [
       "<Figure size 432x288 with 1 Axes>"
      ]
     },
     "metadata": {
      "needs_background": "light"
     },
     "output_type": "display_data"
    }
   ],
   "source": [
    "#Calculating and plotting the residuals for the weighted and unweighted data:\n",
    "\n",
    "dunweighted=ydata-yunweighted #unweighted residuals \n",
    "dweighted=ydata-yweighted #Weighted residuals\n",
    "\n",
    "\n",
    "numberofdata=np.linspace(1,16,16)#This is the x axis-the data number corresponding to the residua\n",
    "\n",
    "plt.figure()\n",
    "plt.plot(numberofdata, dunweighted,'.', label=\"Unweighted Residuals\")\n",
    "plt.plot(numberofdata, dweighted,'.', label=\"Weighted Residuals\")\n",
    "plt.axhline(y=0, color='black', linestyle='-',linewidth=1)#This is a horizontal line at y=0, to help see how the residuals are distributed around y=0 \n",
    "plt.xlabel(\"The number of the data point\")\n",
    "plt.ylabel(\"Residuals\")\n",
    "plt.title(\"Weighted and Unweighted Residuals\")\n",
    "plt.legend(loc='lower left')"
   ]
  },
  {
   "cell_type": "markdown",
   "metadata": {},
   "source": [
    "What I notice:\n",
    "I can see that most of the residuals, for both weighted and unweighted data, are concentrated around y=0.\n",
    "I also notice that they are randomly distributed.\n",
    "This therefore means that, the linear fit is an appropriate fit for the data."
   ]
  },
  {
   "cell_type": "markdown",
   "metadata": {},
   "source": [
    "### 5)Calculating Hubble's Constant\n",
    "$$v=H_0d\\quad\\quad\\quad\\quad\\quad\\quad\\mathrm{(7)}$$\n",
    "It's uncertainty: $$\\Delta H_0 = m^{-2}\\Delta m \\quad\\quad\\quad\\quad\\mathrm{(8)}$$\n",
    "(Llorente-Garcia, 2019:28)"
   ]
  },
  {
   "cell_type": "code",
   "execution_count": 169,
   "metadata": {},
   "outputs": [
    {
     "name": "stdout",
     "output_type": "stream",
     "text": [
      "The Hubble's constant for the unweighted fit is: (64.1771 ± 0.8559) km Mpc^-1 s^-1\n",
      "The Hubble's constant for the weighted fit is: (64.5049 ± 3.9116) km Mpc^-1 s^-1\n"
     ]
    }
   ],
   "source": [
    "#Calculating a value for hubbles constant using the weighted and unweighted fits:\n",
    "#v=Hd-Hubbles formula for ressional velocity\n",
    "H_unweighted=1/slope #1/gradient of the graph is the Hubble's constant-you can tell by looking at the formula\n",
    "unweighted_constant = 1/fit[0] #using (7)       \n",
    "error_of_unweighted_constant = ((fit[0])**-2)*dfit[0] #using (8)\n",
    "weighted_constant = 1/wfit[0] #using (7)\n",
    "error_of_weighted_constant = ((wfit[0])**-2)*wdfit[0] #using (8)\n",
    "print(\"The Hubble's constant for the unweighted fit is: ({0:0.4f} ± {1:0.4f}) km Mpc^-1 s^-1\".format(H_unweighted,error_of_unweighted_constant))\n",
    "H_weighted=1/weightedm #1/gradient of the graph is the Hubble's constant-you can tell by looking at the formula\n",
    "print(\"The Hubble's constant for the weighted fit is: ({0:0.4f} ± {1:0.4f}) km Mpc^-1 s^-1\".format(H_weighted,error_of_weighted_constant))"
   ]
  },
  {
   "cell_type": "markdown",
   "metadata": {},
   "source": [
    "Is the weighted or unweighted for better given the above cell results:\n",
    "<br>\n",
    "The weighted fit is better because it is closer to the modern accepted value of 72 km Mpc^-1 s^-1. This is due to the weighted fit accounting for seperate uncertainties of each data point and weighing them up. It then accounts for this in the plot and the rest of the caculations. On the other hand, the unweighted fit does not take this into account. Thus it is less accurate."
   ]
  },
  {
   "cell_type": "markdown",
   "metadata": {},
   "source": [
    "### 6)Significance of results to the universe:\n",
    "The inverse of Hubble's constant is the age of the universe. This is significant because depending on how big or small it is, this affects the field of astronomy and any calculations in involving the age of the universe. \n",
    "<br>\n",
    "<br>\n",
    "Caclulating the age of the universe:\n",
    "<br>\n",
    "Using the conversion $1pc ≈ 3.0857 × 10^{16}m$:"
   ]
  },
  {
   "cell_type": "code",
   "execution_count": 168,
   "metadata": {},
   "outputs": [
    {
     "name": "stdout",
     "output_type": "stream",
     "text": [
      "The age of the universe is 15.168910804062195 billion years\n"
     ]
    }
   ],
   "source": [
    "constant = (weighted_constant*(10**3))/((3.0857*10**16)*(10**6))   #convert to SI units\n",
    "ageinseconds = (1/constant)\n",
    "ageinbillionsofyears= (ageinseconds)/60/60/24/365/10**9 #convert to billions of years\n",
    "print(\"The age of the universe is\", ageinbillionsofyears, \"billion years\")"
   ]
  },
  {
   "cell_type": "markdown",
   "metadata": {},
   "source": [
    "Also, Hubble's constant can calculate the brighness and mass of stars,  deduce the ammount of dark matter in the universe and obtain a scale of galaxy clusters. So the size of Hubble's constant can affect all of astronomy and our perception/understanding of the universe."
   ]
  },
  {
   "cell_type": "markdown",
   "metadata": {},
   "source": [
    "## Bibliography\n",
    "[1] Btc.montana.edu. (2019). Hubble Constant. [online] Available at: https://btc.montana.edu/ceres/html/Universe/hnought.htm [Accessed 15 Nov. 2019].\n",
    "<br>\n",
    "[2] Dash, L and Lemos, P (2019). _\"PHAS0007 Reading Week Task 2019: Using least-squares fitting to calculate the Hubble constant\"_. UCL Moodle resource available from https://moodle.ucl.ac.uk/course/view.php?id=10648&section=13 \\[accessed 12 November 2019\\]\n",
    "<br>\n",
    "[3] Dash. Supplementary Notebook . Available at https://moodle.ucl.ac.uk/course/view.php?id=10648&section=13. [Accessed 15 Nov. 2019].\n",
    "<br>\n",
    "[4] Gada, J. (2019). [online] Available at: https://www.quora.com/What-is-the-intuitive-meaning-of-a-covariance-matrix [Accessed 14 Nov. 2019].\n",
    "<br>\n",
    "[5] Llorente G Isabel \"Script for linear fitting using Python” from the PHAS0007 Data Analysis and Statistics Moodle. Available at https://moodle.ucl.ac.uk/course/view.php?id=16941&section=4 [Accessed 15 Nov. 2019].\n",
    "<br>\n",
    "[6] Docs.scipy.org. (2019). scipy.optimize.curve_fit — SciPy v1.3.2 Reference Guide. [online] Available at: https://docs.scipy.org/doc/scipy/reference/generated/scipy.optimize.curve_fit.html [Accessed 15 Nov. 2019].\n"
   ]
  },
  {
   "cell_type": "code",
   "execution_count": null,
   "metadata": {},
   "outputs": [],
   "source": []
  }
 ],
 "metadata": {
  "kernelspec": {
   "display_name": "Python 3",
   "language": "python",
   "name": "python3"
  },
  "language_info": {
   "codemirror_mode": {
    "name": "ipython",
    "version": 3
   },
   "file_extension": ".py",
   "mimetype": "text/x-python",
   "name": "python",
   "nbconvert_exporter": "python",
   "pygments_lexer": "ipython3",
   "version": "3.7.4"
  }
 },
 "nbformat": 4,
 "nbformat_minor": 2
}
