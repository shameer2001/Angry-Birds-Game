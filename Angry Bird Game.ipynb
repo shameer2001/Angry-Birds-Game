{
 "cells": [
  {
   "cell_type": "markdown",
   "metadata": {},
   "source": [
    "# 19013880 Christmas Task - ANGRY BIRD GAME\n"
   ]
  },
  {
   "cell_type": "markdown",
   "metadata": {},
   "source": [
    "### Introduction:\n",
    "\n",
    "Using, physics equations and concepts you can code the trajectory of a projectile and the subsequent motion when it hits a target. These equations and concepts include, momentum, torque, equations of motion and newtons laws. These equations and concepts will be used to code the trajectory of a 'bird' and also what happens if it hits a tall, rectangular target. The user will be able to input their own initial conditions of velocity and angle of trajectory with the aim of toppling the target. "
   ]
  },
  {
   "cell_type": "code",
   "execution_count": 1,
   "metadata": {},
   "outputs": [
    {
     "data": {
      "text/html": [
       "<div id=\"glowscript\" class=\"glowscript\"></div>"
      ],
      "text/plain": [
       "<IPython.core.display.HTML object>"
      ]
     },
     "metadata": {},
     "output_type": "display_data"
    },
    {
     "data": {
      "application/javascript": [
       "if (typeof Jupyter !== \"undefined\") { window.__context = { glowscript_container: $(\"#glowscript\").removeAttr(\"id\")};}else{ element.textContent = ' ';}"
      ],
      "text/plain": [
       "<IPython.core.display.Javascript object>"
      ]
     },
     "metadata": {},
     "output_type": "display_data"
    }
   ],
   "source": [
    "import numpy as np\n",
    "from vpython import sphere,color,rate,canvas,vector,curve,label,box,cross,mag,random,arrow,cylinder\n"
   ]
  },
  {
   "cell_type": "code",
   "execution_count": 2,
   "metadata": {
    "scrolled": true
   },
   "outputs": [
    {
     "data": {
      "text/html": [
       "<div id=\"glowscript\" class=\"glowscript\"></div>"
      ],
      "text/plain": [
       "<IPython.core.display.HTML object>"
      ]
     },
     "metadata": {},
     "output_type": "display_data"
    },
    {
     "data": {
      "application/javascript": [
       "if (typeof Jupyter !== \"undefined\") { window.__context = { glowscript_container: $(\"#glowscript\").removeAttr(\"id\")};}else{ element.textContent = ' ';}"
      ],
      "text/plain": [
       "<IPython.core.display.Javascript object>"
      ]
     },
     "metadata": {},
     "output_type": "display_data"
    },
    {
     "data": {
      "text/html": [
       "<div id=\"glowscript\" class=\"glowscript\"></div>"
      ],
      "text/plain": [
       "<IPython.core.display.HTML object>"
      ]
     },
     "metadata": {},
     "output_type": "display_data"
    },
    {
     "data": {
      "application/javascript": [
       "if (typeof Jupyter !== \"undefined\") { window.__context = { glowscript_container: $(\"#glowscript\").removeAttr(\"id\")};}else{ element.textContent = ' ';}"
      ],
      "text/plain": [
       "<IPython.core.display.Javascript object>"
      ]
     },
     "metadata": {},
     "output_type": "display_data"
    },
    {
     "data": {
      "application/javascript": [
       "if (typeof Jupyter !== \"undefined\") {require.undef(\"nbextensions/vpython_libraries/glow.min\");}else{element.textContent = ' ';}"
      ],
      "text/plain": [
       "<IPython.core.display.Javascript object>"
      ]
     },
     "metadata": {},
     "output_type": "display_data"
    },
    {
     "data": {
      "application/javascript": [
       "if (typeof Jupyter !== \"undefined\") {require.undef(\"nbextensions/vpython_libraries/glowcomm\");}else{element.textContent = ' ';}"
      ],
      "text/plain": [
       "<IPython.core.display.Javascript object>"
      ]
     },
     "metadata": {},
     "output_type": "display_data"
    },
    {
     "data": {
      "application/javascript": [
       "if (typeof Jupyter !== \"undefined\") {require.undef(\"nbextensions/vpython_libraries/jquery-ui.custom.min\");}else{element.textContent = ' ';}"
      ],
      "text/plain": [
       "<IPython.core.display.Javascript object>"
      ]
     },
     "metadata": {},
     "output_type": "display_data"
    },
    {
     "data": {
      "application/javascript": [
       "if (typeof Jupyter !== \"undefined\") {require([\"nbextensions/vpython_libraries/glow.min\"], function(){console.log(\"GLOW LOADED\");});}else{element.textContent = ' ';}"
      ],
      "text/plain": [
       "<IPython.core.display.Javascript object>"
      ]
     },
     "metadata": {},
     "output_type": "display_data"
    },
    {
     "data": {
      "application/javascript": [
       "if (typeof Jupyter !== \"undefined\") {require([\"nbextensions/vpython_libraries/glowcomm\"], function(){console.log(\"GLOWCOMM LOADED\");});}else{element.textContent = ' ';}"
      ],
      "text/plain": [
       "<IPython.core.display.Javascript object>"
      ]
     },
     "metadata": {},
     "output_type": "display_data"
    },
    {
     "data": {
      "application/javascript": [
       "if (typeof Jupyter !== \"undefined\") {require([\"nbextensions/vpython_libraries/jquery-ui.custom.min\"], function(){console.log(\"JQUERY LOADED\");});}else{element.textContent = ' ';}"
      ],
      "text/plain": [
       "<IPython.core.display.Javascript object>"
      ]
     },
     "metadata": {},
     "output_type": "display_data"
    }
   ],
   "source": [
    "canvas() #Create a new canvas\n",
    "#The following 2 lines of code are from the script for the final assignment:\n",
    "scene = canvas(width=640, height=480, center=vector(8,5,0),range=8, background=color.cyan) #Make a scene such that the origin is on the bottom left(like a positive x,y,z axis)\n",
    "ground = curve(pos=[(0,0,0),(16,0,0)],color=color.green) #Make the ground the x axis and limit it to 16 units (16 metres)\n",
    "\n"
   ]
  },
  {
   "cell_type": "markdown",
   "metadata": {},
   "source": [
    "## Coding the target shape:"
   ]
  },
  {
   "cell_type": "code",
   "execution_count": 3,
   "metadata": {},
   "outputs": [],
   "source": [
    "target_pos = 5 + (random()*10) #This is the x position such that it is a random number between 5 and 15\n",
    "target = box(pos=vector(target_pos,1,0), color=color.gray(.6), height=2, width=0.5, length=0.5)\n",
    "target_mass = 100#kg\n",
    "#Next, we will make a platform so that an object can be thrown from it:\n",
    "platform = cylinder(pos=vector(0,0,0), color=vector(0.72,0.42,0), height=random(), radius=0.5, axis=vector(0,1,0))\n"
   ]
  },
  {
   "cell_type": "markdown",
   "metadata": {},
   "source": [
    "## Coding the projectile/'bird' and platform shape:"
   ]
  },
  {
   "cell_type": "code",
   "execution_count": 4,
   "metadata": {},
   "outputs": [],
   "source": [
    "#We will now code the projectile:\n",
    "bird_mass = 0.1\n",
    "bird = sphere(pos=vector(0,platform.height + 0.3,0), radius=0.3, color=color.red)\n",
    "#I added the radius to the height because we want the bottom of the sphere to touch the platform,not the middle\n"
   ]
  },
  {
   "cell_type": "markdown",
   "metadata": {},
   "source": [
    "## The motion of the 'bird' and the momentum arrow:\n",
    "\n",
    "### Equations of motion\n",
    "$$ r_x = x_0 + v_0 t \\cos \\theta   \n",
    "\\quad\\quad \\text{(Equation 1)} $$\n",
    "\n",
    "$$ r_y = y_0 + v_0 t  \\sin \\theta -\\frac{1}{2}g t^2\n",
    "\\quad\\quad \\text{(Equation 2)} $$\n",
    "\n",
    "### Equations of momentum:\n",
    "Since momentum is defined as\n",
    "\n",
    "$$ \\mathbf{p} = m  \\frac{d \\mathbf{r}}{dt} \n",
    "\\quad\\quad \\text{(Equation 3)} $$\n",
    "\n",
    "we can express the momentum of the projectile as\n",
    "\n",
    "$$ p_x = m v_0 \\cos \\theta\n",
    "\\quad\\quad \\text{(Equation 4)} $$\n",
    "\n",
    "$$ p_y = m v_0 \\sin \\theta - m g t \n",
    "\\quad\\quad \\text{(Equation 5)} $$\n",
    "\n",
    "\n",
    "#### References: The above equations are from the script for the final assignment"
   ]
  },
  {
   "cell_type": "code",
   "execution_count": 5,
   "metadata": {},
   "outputs": [
    {
     "name": "stdout",
     "output_type": "stream",
     "text": [
      "Choose an inital velocity of the bird in metres/second:  2\n",
      "Choose an angle at which to launch the bird in degrees:  45\n"
     ]
    }
   ],
   "source": [
    "#The user inputs:\n",
    "initial_v = float(input(\"Choose an inital velocity of the bird in metres/second:  \"))\n",
    "theta0 = float(input(\"Choose an angle at which to launch the bird in degrees:  \"))\n",
    "theta = np.radians(theta0)\n",
    "#The motion equations:\n",
    "g=9.81\n",
    "t=0 #Set initial time as 0\n",
    "dt=0.0001 #Set a timestep\n",
    "x0=0 #The bird starts at x=0\n",
    "y0=platform.height + bird.radius #The inital height(height of platform + radius of bird)\n",
    "rx=x0 #Define rx as equal to x0 INITIALLY then it will change in the while loop\n",
    "ry=y0 #Define ry as equal to y0 INITIALLY then it will change in the while loop\n",
    "\n",
    "#Coding the arrow:\n",
    "pointer = arrow(pos=bird.pos, axis=vector(0,0,0), shaftwidth=0.1, color=color.red)\n",
    "px=0 #Initially, horizontal momentum will be 0\n",
    "py=0 #Initially, vertical momentum will be 0\n",
    "\n",
    "\n",
    "while ry >= bird.radius:\n",
    "    rate(3000) #I put the rate high so the bird moves close to real time\n",
    "    t=t+dt #Small changes in the time\n",
    "    rx = x0 + initial_v*t*np.cos(theta) #The x component of the position of the bird (Equation 1)\n",
    "    ry = y0 + initial_v*t*np.sin(theta) - (g*(t**2))/2 #The y component of the position of the bird (Equation 2)\n",
    "    bird.pos=vector(rx,ry,0) #This is to make the position vector of the bird change in the loop\n",
    "    \n",
    "    #Now we use this while loop to change the position of the arrow at each step of the animation:\n",
    "    px = bird_mass*initial_v*np.cos(theta) #Horizontal momentum equation (Equation 4)\n",
    "    py = bird_mass*initial_v*np.sin(theta) - bird_mass*g*t #Vertical momentum equation (Equation 5)\n",
    "    pointer.pos=bird.pos #Change the position of the arrow with the position of the bird\n",
    "    pointer.axis=vector(px,py,0) #Make the azis change as momentum changes so the arrow represents momentum\n",
    "\n",
    "\n"
   ]
  },
  {
   "cell_type": "markdown",
   "metadata": {},
   "source": [
    "## Will the bird topple the target? and Toppling the target\n",
    "\n",
    "### Equations used:\n",
    "Restoring Torque:   $$ \\mathbf{T}_{restoring} = \\mathbf{F}_{grav} \\times \\mathbf{d}_r\n",
    "\\quad\\quad \\text{(Equation 6)} $$\n",
    "\n",
    "where $$\\mathbf{F}_{grav} = m\\mathbf{g}\\quad\\quad \\text{(Equation 7)}\\quad and\\quad  \\mathbf{d}_r = width/2\n",
    "\\quad\\quad \\text{(Equation 8)} $$\n",
    "\n",
    "Applied Torque: $$\\mathbf{T}_{applied} = \\mathbf{F}_{applied} \\times \\mathbf{d}_a\n",
    "\\quad\\quad \\text{(Equation 9)} $$\n",
    "\n",
    "$$where \\quad \\mathbf{T}_{applied} = \\text{momentum of ball/contact  time} \\quad\\quad \\text{(Equation 10)}\\quad and\\quad \\mathbf{d}_r = \\text{the vector from the rotation point and contact point} $$\n",
    "\n",
    "$$ \\mathbf{T}_{applied} > \\mathbf{T}_{restoring}\n",
    "\\quad\\quad \\text{(Equation 11)} $$\n",
    "\n",
    "#### References: The above equations are from the script for the final assignment"
   ]
  },
  {
   "cell_type": "code",
   "execution_count": 6,
   "metadata": {
    "scrolled": true
   },
   "outputs": [
    {
     "name": "stdout",
     "output_type": "stream",
     "text": [
      "Choose an inital velocity of the bird in metres/second:  \n"
     ]
    },
    {
     "ename": "ValueError",
     "evalue": "could not convert string to float: ",
     "output_type": "error",
     "traceback": [
      "\u001b[1;31m---------------------------------------------------------------------------\u001b[0m",
      "\u001b[1;31mValueError\u001b[0m                                Traceback (most recent call last)",
      "\u001b[1;32m<ipython-input-6-62c1c99ba40a>\u001b[0m in \u001b[0;36m<module>\u001b[1;34m\u001b[0m\n\u001b[0;32m      1\u001b[0m \u001b[1;31m#The user inputs:\u001b[0m\u001b[1;33m\u001b[0m\u001b[1;33m\u001b[0m\u001b[1;33m\u001b[0m\u001b[0m\n\u001b[1;32m----> 2\u001b[1;33m \u001b[0minitial_v\u001b[0m \u001b[1;33m=\u001b[0m \u001b[0mfloat\u001b[0m\u001b[1;33m(\u001b[0m\u001b[0minput\u001b[0m\u001b[1;33m(\u001b[0m\u001b[1;34m\"Choose an inital velocity of the bird in metres/second:  \"\u001b[0m\u001b[1;33m)\u001b[0m\u001b[1;33m)\u001b[0m\u001b[1;33m\u001b[0m\u001b[1;33m\u001b[0m\u001b[0m\n\u001b[0m\u001b[0;32m      3\u001b[0m \u001b[0mtheta0\u001b[0m \u001b[1;33m=\u001b[0m \u001b[0mfloat\u001b[0m\u001b[1;33m(\u001b[0m\u001b[0minput\u001b[0m\u001b[1;33m(\u001b[0m\u001b[1;34m\"Choose an angle at which to launch the bird in degrees:  \"\u001b[0m\u001b[1;33m)\u001b[0m\u001b[1;33m)\u001b[0m\u001b[1;33m\u001b[0m\u001b[1;33m\u001b[0m\u001b[0m\n\u001b[0;32m      4\u001b[0m \u001b[0mtheta\u001b[0m \u001b[1;33m=\u001b[0m \u001b[0mnp\u001b[0m\u001b[1;33m.\u001b[0m\u001b[0mradians\u001b[0m\u001b[1;33m(\u001b[0m\u001b[0mtheta0\u001b[0m\u001b[1;33m)\u001b[0m\u001b[1;33m\u001b[0m\u001b[1;33m\u001b[0m\u001b[0m\n\u001b[0;32m      5\u001b[0m \u001b[1;31m#The motion equations:\u001b[0m\u001b[1;33m\u001b[0m\u001b[1;33m\u001b[0m\u001b[1;33m\u001b[0m\u001b[0m\n",
      "\u001b[1;31mValueError\u001b[0m: could not convert string to float: "
     ]
    }
   ],
   "source": [
    "#The user inputs:\n",
    "initial_v = float(input(\"Choose an inital velocity of the bird in metres/second:  \"))\n",
    "theta0 = float(input(\"Choose an angle at which to launch the bird in degrees:  \"))\n",
    "theta = np.radians(theta0)\n",
    "#The motion equations:\n",
    "g=9.81\n",
    "t=0 #Set initial time as 0\n",
    "dt=0.0001 #Set a timestep\n",
    "x0=0 #The bird starts at x=0\n",
    "y0=platform.height + bird.radius #The inital height(height of platform + radius of bird)\n",
    "rx=x0 #Define rx as equal to x0 INITIALLY then it will change in the while loop\n",
    "ry=y0 #Define ry as equal to y0 INITIALLY then it will change in the while loop\n",
    "\n",
    "#Coding the arrow:\n",
    "pointer = arrow(pos=bird.pos, axis=vector(0,0,0), shaftwidth=0.1, color=color.red)\n",
    "px=0 #Initially, horizontal momentum will be 0\n",
    "py=0 #Initially, vertical momentum will be 0\n",
    "\n",
    "\n",
    "while ry >= bird.radius:\n",
    "    rate(3000) #I put the rate high so the bird moves close to real time\n",
    "    t=t+dt #Small changes in the time\n",
    "    rx = x0 + initial_v*t*np.cos(theta) #The x component of the position of the bird (Equation 1)\n",
    "    ry = y0 + initial_v*t*np.sin(theta) - (g*(t**2))/2 #The y component of the position of the bird (Equation 2)\n",
    "    bird.pos=vector(rx,ry,0) #This is to make the position vector of the bird change in the loop\n",
    "    \n",
    "    #Now we use this while loop to change the position of the arrow at each step of the animation:\n",
    "    px = bird_mass*initial_v*np.cos(theta) #Horizontal momentum equation (Equation 4)\n",
    "    py = bird_mass*initial_v*np.sin(theta) - bird_mass*g*t #Vertical momentum equation (Equation 5)\n",
    "    pointer.pos=bird.pos #Change the position of the arrow with the position of the bird\n",
    "    pointer.axis=vector(px,py,0) #Make the azis change as momentum changes so the arrow represents momentum\n",
    "    \n",
    "\n",
    "    #TOPPLING THE TARGET:\n",
    "    F_grav = vector(0,target_mass*g,0) #This is the weight of the target as a vector\n",
    "    d_r = vector(target.width/2,0,0) #This is the horizontal distance between the point of rotation (i.e. the bottom right corner) and the centre of mass\n",
    "    restoring_torque = cross(F_grav, d_r) #Equation for restoring torque (cross product) Equation 6\n",
    "    restoring_torque_mag = mag(restoring_torque) #We will need to use the magnitude and not the vector because python does not allow us to use a vector in equation 11\n",
    "\n",
    "    momentum_of_ball = vector(px,py,0) #The momentum of the ball as a vector, this is used in equation 10\n",
    "    applied_force = momentum_of_ball/0.01 #Equation 10\n",
    "\n",
    "    h= vector(target_pos-(target.width/2)-bird.radius, ry,0) #This is the height that the ball makes contact with the target \n",
    "    point_of_rotation = vector(target_pos+(target.width/2),0,0) #Point of rotation as a vector which is the bottom right hand corner of the target\n",
    "    d_a = point_of_rotation-h #The vector from the point of rotation (bottom right-hand corner of target) to the point of impact, on the left-hand side of the target at height h\n",
    "    applied_torque = cross(applied_force, d_a) #Equation for applied torque (cross product) Equation 9\n",
    "    applied_torque_mag = mag(applied_torque)#We will need to use the magnitude and not the vector because python does not allow us to use a vector in equation 11\n",
    "    \n",
    "    \n",
    "    if ry<=2 and target_pos-(target.width/2)-bird.radius <= rx <= target_pos: #These are the possible points of contact bewteen the bird and the target\n",
    "        ry_new=ry #Define the new vertical motion as (INITIALLY) the previous vertical motion\n",
    "        t=0 #Set time to zero as there is now a new motion\n",
    "        while ry_new >= bird.radius: #This will decide what happens to the BALL when it makes contact with the target\n",
    "            rate(3000)\n",
    "            t=t+dt #Small changes in the time\n",
    "            ry_new = ry - 0.5*g*(t**2) #Use the ry equation again but with initial velocity as 0 scince the bird comes to rest\n",
    "            bird.pos=vector(target_pos-(target.width/2)-bird.radius,ry_new,0) #This will make the ball go in free fall after it comes to rest\n",
    "    \n",
    "        #WILL THE TARGET TOPPLE?\n",
    "        if applied_torque_mag > restoring_torque_mag: #This is the NECCESARY condition to topple the target as shown in Equation 11\n",
    "            target.rotate(angle=-np.pi/2, axis=vector(0,0,1),origin=vector(target_pos,target.width/2,0)) #This will rotate the target 90 degrees clockwise and put it on the floor\n",
    "            \n",
    "        break #To stop the previous animation from continuing "
   ]
  },
  {
   "cell_type": "markdown",
   "metadata": {},
   "source": [
    "## Labels and Outputs:"
   ]
  },
  {
   "cell_type": "code",
   "execution_count": 7,
   "metadata": {},
   "outputs": [
    {
     "name": "stdout",
     "output_type": "stream",
     "text": [
      "Choose an inital velocity of the bird in metres/second:  \n"
     ]
    },
    {
     "ename": "ValueError",
     "evalue": "could not convert string to float: ",
     "output_type": "error",
     "traceback": [
      "\u001b[1;31m---------------------------------------------------------------------------\u001b[0m",
      "\u001b[1;31mValueError\u001b[0m                                Traceback (most recent call last)",
      "\u001b[1;32m<ipython-input-7-645b518fcf00>\u001b[0m in \u001b[0;36m<module>\u001b[1;34m\u001b[0m\n\u001b[0;32m      1\u001b[0m \u001b[1;31m#The user inputs:\u001b[0m\u001b[1;33m\u001b[0m\u001b[1;33m\u001b[0m\u001b[1;33m\u001b[0m\u001b[0m\n\u001b[1;32m----> 2\u001b[1;33m \u001b[0minitial_v\u001b[0m \u001b[1;33m=\u001b[0m \u001b[0mfloat\u001b[0m\u001b[1;33m(\u001b[0m\u001b[0minput\u001b[0m\u001b[1;33m(\u001b[0m\u001b[1;34m\"Choose an inital velocity of the bird in metres/second:  \"\u001b[0m\u001b[1;33m)\u001b[0m\u001b[1;33m)\u001b[0m\u001b[1;33m\u001b[0m\u001b[1;33m\u001b[0m\u001b[0m\n\u001b[0m\u001b[0;32m      3\u001b[0m \u001b[0mtheta0\u001b[0m \u001b[1;33m=\u001b[0m \u001b[0mfloat\u001b[0m\u001b[1;33m(\u001b[0m\u001b[0minput\u001b[0m\u001b[1;33m(\u001b[0m\u001b[1;34m\"Choose an angle at which to launch the bird in degrees:  \"\u001b[0m\u001b[1;33m)\u001b[0m\u001b[1;33m)\u001b[0m\u001b[1;33m\u001b[0m\u001b[1;33m\u001b[0m\u001b[0m\n\u001b[0;32m      4\u001b[0m \u001b[0mtheta\u001b[0m \u001b[1;33m=\u001b[0m \u001b[0mnp\u001b[0m\u001b[1;33m.\u001b[0m\u001b[0mradians\u001b[0m\u001b[1;33m(\u001b[0m\u001b[0mtheta0\u001b[0m\u001b[1;33m)\u001b[0m\u001b[1;33m\u001b[0m\u001b[1;33m\u001b[0m\u001b[0m\n\u001b[0;32m      5\u001b[0m \u001b[1;31m#The motion equations:\u001b[0m\u001b[1;33m\u001b[0m\u001b[1;33m\u001b[0m\u001b[1;33m\u001b[0m\u001b[0m\n",
      "\u001b[1;31mValueError\u001b[0m: could not convert string to float: "
     ]
    }
   ],
   "source": [
    "#The user inputs:\n",
    "initial_v = float(input(\"Choose an inital velocity of the bird in metres/second:  \"))\n",
    "theta0 = float(input(\"Choose an angle at which to launch the bird in degrees:  \"))\n",
    "theta = np.radians(theta0)\n",
    "#The motion equations:\n",
    "g=9.81\n",
    "t=0 #Set initial time as 0\n",
    "dt=0.0001 #Set a timestep\n",
    "x0=0 #The bird starts at x=0\n",
    "y0=platform.height + bird.radius #The inital height(height of platform + radius of bird)\n",
    "rx=x0 #Define rx as equal to x0 INITIALLY then it will change in the while loop\n",
    "ry=y0 #Define ry as equal to y0 INITIALLY then it will change in the while loop\n",
    "\n",
    "#Coding the arrow:\n",
    "pointer = arrow(pos=bird.pos, axis=vector(0,0,0), shaftwidth=0.1, color=color.red)\n",
    "px=0 #Initially, horizontal momentum will be 0\n",
    "py=0 #Initially, vertical momentum will be 0\n",
    "\n",
    "\n",
    "while ry >= bird.radius:\n",
    "    rate(3000) #I put the rate high so the bird moves close to real time\n",
    "    t=t+dt #Small changes in the time\n",
    "    rx = x0 + initial_v*t*np.cos(theta) #The x component of the position of the bird (Equation 1)\n",
    "    ry = y0 + initial_v*t*np.sin(theta) - (g*(t**2))/2 #The y component of the position of the bird (Equation 2)\n",
    "    bird.pos=vector(rx,ry,0) #This is to make the position vector of the bird change in the loop\n",
    "    \n",
    "    #Now we use this while loop to change the position of the arrow at each step of the animation:\n",
    "    px = bird_mass*initial_v*np.cos(theta) #Horizontal momentum equation (Equation 4)\n",
    "    py = bird_mass*initial_v*np.sin(theta) - bird_mass*g*t #Vertical momentum equation (Equation 5)\n",
    "    pointer.pos=bird.pos #Change the position of the arrow with the position of the bird\n",
    "    pointer.axis=vector(px,py,0) #Make the azis change as momentum changes so the arrow represents momentum\n",
    "    \n",
    "\n",
    "    #TOPPLING THE TARGET:\n",
    "    F_grav = vector(0,target_mass*g,0) #This is the weight of the target as a vector\n",
    "    d_r = vector(target.width/2,0,0) #This is the horizontal distance between the point of rotation (i.e. the bottom right corner) and the centre of mass\n",
    "    restoring_torque = cross(F_grav, d_r) #Equation for restoring torque (cross product) Equation 6\n",
    "    restoring_torque_mag = mag(restoring_torque) #We will need to use the magnitude and not the vector because python does not allow us to use a vector in equation 11\n",
    "\n",
    "    momentum_of_ball = vector(px,py,0) #The momentum of the ball as a vector, this is used in equation 10\n",
    "    applied_force = momentum_of_ball/0.01 #Equation 10\n",
    "\n",
    "    h= vector(target_pos-(target.width/2)-bird.radius, ry,0) #This is the height that the ball makes contact with the target \n",
    "    point_of_rotation = vector(target_pos+(target.width/2),0,0) #Point of rotation as a vector which is the bottom right hand corner of the target\n",
    "    d_a = point_of_rotation-h #The vector from the point of rotation (bottom right-hand corner of target) to the point of impact, on the left-hand side of the target at height h\n",
    "    applied_torque = cross(applied_force, d_a) #Equation for applied torque (cross product) Equation 9\n",
    "    applied_torque_mag = mag(applied_torque)#We will need to use the magnitude and not the vector because python does not allow us to use a vector in equation 11\n",
    "    \n",
    "   \n",
    "    \n",
    "    if ry<=2 and target_pos-(target.width/2)-bird.radius <= rx <= target_pos: #These are the possible points of contact between the bird and the target\n",
    "        ry_new=ry #Define the new vertical motion as (INITIALLY) the previous vertical motion\n",
    "        t=0 #Set time to zero as there is now a new motion\n",
    "        \n",
    "        print(\"The height of the impact point is\", ry, \"m\")\n",
    "        print(\"The bird's momentum at the point of impact is\", pointer.axis, \"kg m/s\")\n",
    "        print(\"The applied torque from the ball is\", applied_torque, \"Nm\" )\n",
    "        print(\"The magnitude of the restoring torque is\", restoring_torque_mag, \"Nm\")\n",
    "    \n",
    "        while ry_new >= bird.radius: #This will decide what happens to the BALL when it makes contact with the target\n",
    "            rate(3000)\n",
    "            t=t+dt #Small changes in the time\n",
    "            ry_new = ry - 0.5*g*(t**2) #Use the ry equation again but with initial velocity as 0 scince the bird comes to rest\n",
    "            bird.pos=vector(target_pos-(target.width/2)-bird.radius,ry_new,0) #This will make the ball go in free fall after it comes to rest\n",
    "    \n",
    "        #WILL THE TARGET TOPPLE?\n",
    "        if applied_torque_mag > restoring_torque_mag: #This is the NECCESARY condition to topple the target as shown in Equation 11\n",
    "            target.rotate(angle=-np.pi/2, axis=vector(0,0,1),origin=vector(target_pos,target.width/2,0)) #This will rotate the target 90 degrees clockwise and put it on the floor\n",
    "            #Add a label to tell the user that their target has been toppled or not:\n",
    "            label(pos=vector(14,6,0), text=\"Congratulations! You have successfully toppled the target!\", background=color.black)\n",
    "        else:\n",
    "            label(pos=vector(10,6,0), text=\"Unlucky, you did not topple the target. :( Try Again!\", background=color.black)\n",
    "        \n",
    "        break #To stop the previous animation from continuing \n",
    "    \n",
    "label(pos=vector(10,6,0), text=\"Unlucky, you did not topple the target. :( Try Again!\", background=color.black)\n",
    "print(\"The ball landed\", rx, \"m from the origin\")\n",
    "\n"
   ]
  },
  {
   "cell_type": "markdown",
   "metadata": {},
   "source": [
    "# OVERALL CODE:"
   ]
  },
  {
   "cell_type": "code",
   "execution_count": 8,
   "metadata": {},
   "outputs": [
    {
     "data": {
      "text/html": [
       "<div id=\"glowscript\" class=\"glowscript\"></div>"
      ],
      "text/plain": [
       "<IPython.core.display.HTML object>"
      ]
     },
     "metadata": {},
     "output_type": "display_data"
    },
    {
     "data": {
      "application/javascript": [
       "if (typeof Jupyter !== \"undefined\") { window.__context = { glowscript_container: $(\"#glowscript\").removeAttr(\"id\")};}else{ element.textContent = ' ';}"
      ],
      "text/plain": [
       "<IPython.core.display.Javascript object>"
      ]
     },
     "metadata": {},
     "output_type": "display_data"
    },
    {
     "data": {
      "text/html": [
       "<div id=\"glowscript\" class=\"glowscript\"></div>"
      ],
      "text/plain": [
       "<IPython.core.display.HTML object>"
      ]
     },
     "metadata": {},
     "output_type": "display_data"
    },
    {
     "data": {
      "application/javascript": [
       "if (typeof Jupyter !== \"undefined\") { window.__context = { glowscript_container: $(\"#glowscript\").removeAttr(\"id\")};}else{ element.textContent = ' ';}"
      ],
      "text/plain": [
       "<IPython.core.display.Javascript object>"
      ]
     },
     "metadata": {},
     "output_type": "display_data"
    }
   ],
   "source": [
    "import numpy as np\n",
    "from vpython import sphere,color,rate,canvas,vector,curve,label,box,cross,mag,random,arrow,cylinder\n",
    "\n",
    "canvas() #Create a new canvas\n",
    "#The following 2 lines of code are from the script for the final assignment:\n",
    "scene = canvas(width=640, height=480, center=vector(8,5,0),range=8, background=color.cyan) #Make a scene such that the origin is on the bottom left(like a positive x,y,z axis)\n",
    "ground = curve(pos=[(0,0,0),(16,0,0)],color=color.green) #Make the ground the x axis and limit it to 16 units (16 metres)\n",
    "\n",
    "target_pos = 5 + (random()*10) #This is the x position such that it is a random number between 5 and 15\n",
    "target = box(pos=vector(target_pos,1,0), color=color.gray(.6), height=2, width=0.5, length=0.5)\n",
    "target_mass = 100#kg\n",
    "#Next, we will make a platform so that an object can be thrown from it:\n",
    "platform = cylinder(pos=vector(0,0,0), color=vector(0.72,0.42,0), height=random(), radius=0.5, axis=vector(0,1,0))\n",
    "\n",
    "#We will now code the projectile:\n",
    "bird_mass = 0.1\n",
    "bird = sphere(pos=vector(0,platform.height + 0.3,0), radius=0.3, color=color.red)\n",
    "#I added the radius to the height because we want the bottom of the sphere to touch the platform, not the middle"
   ]
  },
  {
   "cell_type": "code",
   "execution_count": 9,
   "metadata": {},
   "outputs": [
    {
     "name": "stdout",
     "output_type": "stream",
     "text": [
      "Choose an inital velocity of the bird in metres/second:  \n"
     ]
    },
    {
     "ename": "ValueError",
     "evalue": "could not convert string to float: ",
     "output_type": "error",
     "traceback": [
      "\u001b[1;31m---------------------------------------------------------------------------\u001b[0m",
      "\u001b[1;31mValueError\u001b[0m                                Traceback (most recent call last)",
      "\u001b[1;32m<ipython-input-9-b3c8c4c6c35e>\u001b[0m in \u001b[0;36m<module>\u001b[1;34m\u001b[0m\n\u001b[0;32m      1\u001b[0m \u001b[1;31m#The user inputs:\u001b[0m\u001b[1;33m\u001b[0m\u001b[1;33m\u001b[0m\u001b[1;33m\u001b[0m\u001b[0m\n\u001b[1;32m----> 2\u001b[1;33m \u001b[0minitial_v\u001b[0m \u001b[1;33m=\u001b[0m \u001b[0mfloat\u001b[0m\u001b[1;33m(\u001b[0m\u001b[0minput\u001b[0m\u001b[1;33m(\u001b[0m\u001b[1;34m\"Choose an inital velocity of the bird in metres/second:  \"\u001b[0m\u001b[1;33m)\u001b[0m\u001b[1;33m)\u001b[0m\u001b[1;33m\u001b[0m\u001b[1;33m\u001b[0m\u001b[0m\n\u001b[0m\u001b[0;32m      3\u001b[0m \u001b[0mtheta0\u001b[0m \u001b[1;33m=\u001b[0m \u001b[0mfloat\u001b[0m\u001b[1;33m(\u001b[0m\u001b[0minput\u001b[0m\u001b[1;33m(\u001b[0m\u001b[1;34m\"Choose an angle at which to launch the bird in degrees:  \"\u001b[0m\u001b[1;33m)\u001b[0m\u001b[1;33m)\u001b[0m\u001b[1;33m\u001b[0m\u001b[1;33m\u001b[0m\u001b[0m\n\u001b[0;32m      4\u001b[0m \u001b[0mtheta\u001b[0m \u001b[1;33m=\u001b[0m \u001b[0mnp\u001b[0m\u001b[1;33m.\u001b[0m\u001b[0mradians\u001b[0m\u001b[1;33m(\u001b[0m\u001b[0mtheta0\u001b[0m\u001b[1;33m)\u001b[0m\u001b[1;33m\u001b[0m\u001b[1;33m\u001b[0m\u001b[0m\n\u001b[0;32m      5\u001b[0m \u001b[1;31m#The motion equations:\u001b[0m\u001b[1;33m\u001b[0m\u001b[1;33m\u001b[0m\u001b[1;33m\u001b[0m\u001b[0m\n",
      "\u001b[1;31mValueError\u001b[0m: could not convert string to float: "
     ]
    }
   ],
   "source": [
    "#The user inputs:\n",
    "initial_v = float(input(\"Choose an inital velocity of the bird in metres/second:  \"))\n",
    "theta0 = float(input(\"Choose an angle at which to launch the bird in degrees:  \"))\n",
    "theta = np.radians(theta0)\n",
    "#The motion equations:\n",
    "g=9.81\n",
    "t=0 #Set initial time as 0\n",
    "dt=0.0001 #Set a timestep\n",
    "x0=0 #The bird starts at x=0\n",
    "y0=platform.height + bird.radius #The inital height(height of platform + radius of bird)\n",
    "\n",
    "rx=x0 #Define rx as equal to x0 INITIALLY then it will change in the while loop\n",
    "ry=y0 #Define ry as equal to y0 INITIALLY then it will change in the while loop\n",
    "\n",
    "#Coding the arrow:\n",
    "pointer = arrow(pos=bird.pos, axis=vector(0,0,0), shaftwidth=0.1, color=color.red)\n",
    "px=0 #Initially, horizontal momentum will be 0\n",
    "py=0 #Initially, vertical momentum will be 0\n",
    "\n",
    "\n",
    "while ry >= bird.radius:\n",
    "    rate(3000) #I put the rate high so the bird moves close to real time\n",
    "    t=t+dt #Small changes in the time\n",
    "    rx = x0 + initial_v*t*np.cos(theta) #The x component of the position of the bird (Equation 1)\n",
    "    ry = y0 + initial_v*t*np.sin(theta) - (g*(t**2))/2 #The y component of the position of the bird (Equation 2)\n",
    "    bird.pos=vector(rx,ry,0) #This is to make the position vector of the bird change in the loop\n",
    "    \n",
    "    #Now we use this while loop to change the position of the arrow at each step of the animation:\n",
    "    px = bird_mass*initial_v*np.cos(theta) #Horizontal momentum equation (Equation 4)\n",
    "    py = bird_mass*initial_v*np.sin(theta) - bird_mass*g*t #Vertical momentum equation (Equation 5)\n",
    "    pointer.pos=bird.pos #Change the position of the arrow with the position of the bird\n",
    "    pointer.axis=vector(px,py,0) #Make the azis change as momentum changes so the arrow represents momentum\n",
    "    \n",
    "\n",
    "    #TOPPLING THE TARGET:\n",
    "    F_grav = vector(0,target_mass*g,0) #This is the weight of the target as a vector\n",
    "    d_r = vector(target.width/2,0,0) #This is the horizontal distance between the point of rotation (i.e. the bottom right corner) and the centre of mass\n",
    "    restoring_torque = cross(F_grav, d_r) #Equation for restoring torque (cross product) Equation 6\n",
    "    restoring_torque_mag = mag(restoring_torque) #We will need to use the magnitude and not the vector because python does not allow us to use a vector in equation 11\n",
    "\n",
    "    momentum_of_ball = vector(px,py,0) #The momentum of the ball as a vector, this is used in equation 10\n",
    "    applied_force = momentum_of_ball/0.01 #Equation 10\n",
    "\n",
    "    h= vector(target_pos-(target.width/2)-bird.radius, ry,0) #This is the height that the ball makes contact with the target \n",
    "    point_of_rotation = vector(target_pos+(target.width/2),0,0) #Point of rotation as a vector which is the bottom right hand corner of the target\n",
    "    d_a = point_of_rotation-h #The vector from the point of rotation (bottom right-hand corner of target) to the point of impact, on the left-hand side of the target at height h\n",
    "    applied_torque = cross(applied_force, d_a) #Equation for applied torque (cross product) Equation 9\n",
    "    applied_torque_mag = mag(applied_torque)#We will need to use the magnitude and not the vector because python does not allow us to use a vector in equation 11\n",
    "    \n",
    "    \n",
    "    if ry<=2 and target_pos-(target.width/2)-bird.radius <= rx <= target_pos: #These are the possible points of contact between the bird and the target\n",
    "        ry_new=ry #Define the new vertical motion as (INITIALLY) the previous vertical motion\n",
    "        t=0 #Set time to zero as there is now a new motion\n",
    "        \n",
    "        print(\"The height of the impact point is {0:0.3f} m\".format(ry))\n",
    "        print(\"The bird's momentum at the point of impact is\", pointer.axis, \"kg m/s\") \n",
    "        print(\"The applied torque from the ball is\", applied_torque, \"Nm\")\n",
    "        print(\"The magnitude of the restoring torque is {0:0.3f} Nm\".format(restoring_torque_mag))\n",
    "    \n",
    "        while ry_new >= bird.radius: #This will decide what happens to the BALL when it makes contact with the target\n",
    "            rate(3000)\n",
    "            t=t+dt #Small changes in the time\n",
    "            ry_new = ry - 0.5*g*(t**2) #Use the ry equation again but with initial velocity as 0 scince the bird comes to rest\n",
    "            bird.pos=vector(target_pos-(target.width/2)-bird.radius,ry_new,0) #This will make the ball go in free fall after it comes to rest\n",
    "    \n",
    "        #WILL THE TARGET TOPPLE?\n",
    "        if applied_torque_mag > restoring_torque_mag: #This is the NECCESARY condition to topple the target as shown in Equation 11\n",
    "            target.rotate(angle=-np.pi/2, axis=vector(0,0,1),origin=vector(target_pos,target.width/2,0)) #This will rotate the target 90 degrees clockwise and put it on the floor\n",
    "            #Add a label to tell the user that their target has been toppled or not:\n",
    "            label(pos=vector(8,6,0), text=\"YOU WIN!!!\", background=color.black, height=48)\n",
    "        \n",
    "        break #To stop the previous animation from continuing \n",
    "    \n",
    "\n",
    "    \n",
    "label(pos=vector(8,3,0), text=\"Unlucky, you did not topple the target. :( Try Again!\", background=color.black)\n",
    "print(\"The ball landed {0:0.3f} m from the origin\".format(rx))\n",
    "\n"
   ]
  },
  {
   "cell_type": "markdown",
   "metadata": {},
   "source": [
    "##### Conclusion:\n",
    "\n",
    "I would make improvements to the physics of this game by adding resistive forces. For example, adding air resistance by including a constant opposing force in the motion equations. This force would increase as the speed of the bird increases. Also, I would include friction between the bird and the target. This would mean, that some momentum would be lost, therefore I would code a momentum transfer to the target that is less than the momentum of the bird. Furthermore, I would not assume that all of the momentum is transferred. Instead, I would use the concept of coefficient of restitution in the equations of momentum. This would tell us the respective momentums of the bird and the target, after the collision."
   ]
  },
  {
   "cell_type": "markdown",
   "metadata": {},
   "source": [
    "## Bibliography:\n",
    "\n",
    "Dash, L (2019), PHAS0007: Final assignment 2019/20, UCL. [December 9, 2019]\n",
    "\n"
   ]
  },
  {
   "cell_type": "code",
   "execution_count": null,
   "metadata": {},
   "outputs": [],
   "source": []
  }
 ],
 "metadata": {
  "kernelspec": {
   "display_name": "Python 3",
   "language": "python",
   "name": "python3"
  },
  "language_info": {
   "codemirror_mode": {
    "name": "ipython",
    "version": 3
   },
   "file_extension": ".py",
   "mimetype": "text/x-python",
   "name": "python",
   "nbconvert_exporter": "python",
   "pygments_lexer": "ipython3",
   "version": "3.7.4"
  }
 },
 "nbformat": 4,
 "nbformat_minor": 2
}
